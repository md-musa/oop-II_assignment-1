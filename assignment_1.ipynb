{
 "cells": [
  {
   "cell_type": "code",
   "execution_count": 7,
   "metadata": {},
   "outputs": [
    {
     "name": "stdout",
     "output_type": "stream",
     "text": [
      "Course Code: CSE102, Details: {'Course name': 'Data Structures', 'Credits': 4, 'Instructor': 'Dr. Bob Jr.'}\n",
      "Course Code: CSE103, Details: {'Course name': 'Database Systems', 'Credits': 3, 'Instructor': 'Dr. Carol'}\n",
      "Course Code: CSE104, Details: {'Course name': 'Algorithms', 'Credits': 4, 'Instructor': 'Dr. Dave'}\n"
     ]
    }
   ],
   "source": [
    "# TASK-1:-----------------------------------\n",
    "def manage_courses():\n",
    "    courses = {\n",
    "        \"CSE101\": {\"Course name\": \"Introduction to Programming\", \"Credits\": 3, \"Instructor\": \"Dr. Alice\"},\n",
    "        \"CSE102\": {\"Course name\": \"Data Structures\", \"Credits\": 4, \"Instructor\": \"Dr. Bob\"},\n",
    "        \"CSE103\": {\"Course name\": \"Database Systems\", \"Credits\": 3, \"Instructor\": \"Dr. Carol\"},\n",
    "    }\n",
    "    \n",
    "    courses[\"CSE102\"][\"Instructor\"] = \"Dr. Bob Jr.\"\n",
    "\n",
    "    courses[\"CSE104\"] = {\"Course name\": \"Algorithms\", \"Credits\": 4, \"Instructor\": \"Dr. Dave\"}\n",
    "\n",
    "    del courses[\"CSE101\"]\n",
    "\n",
    "    for course_code in courses:\n",
    "        print(f\"Course Code: {course_code}, Details: {courses[course_code]}\")\n",
    "\n",
    "manage_courses()\n"
   ]
  },
  {
   "cell_type": "code",
   "execution_count": 15,
   "metadata": {},
   "outputs": [
    {
     "name": "stdout",
     "output_type": "stream",
     "text": [
      "Python is fun \n",
      "Learning Python Is Fun And Exciting Keep Practicing!.\n"
     ]
    }
   ],
   "source": [
    "# TASK-2:-------------------------------------\n",
    "sentence = \"Learning Python is fun and rewarding.\"\n",
    "\n",
    "substring = sentence[-28:-14]\n",
    "print(substring)\n",
    "    \n",
    "modified_sentence = sentence.replace(\"rewarding\", \"exciting\")\n",
    "\n",
    "insertion_point = modified_sentence.find(\"exciting\") + len(\"exciting\")\n",
    "final_sentence = modified_sentence[:insertion_point] + \" Keep practicing!\" + modified_sentence[insertion_point:]\n",
    "\n",
    "final_sentence = final_sentence.title()\n",
    "print(final_sentence)"
   ]
  },
  {
   "cell_type": "code",
   "execution_count": 17,
   "metadata": {},
   "outputs": [
    {
     "name": "stdout",
     "output_type": "stream",
     "text": [
      "Third Customer: Charlie\n",
      "['Alice', 'Ben', 'Charlie', 'Eve', 'Frank']\n"
     ]
    }
   ],
   "source": [
    "# TASK-3:---------------------\n",
    "customers = [\"Alice\", \"Bob\", \"Charlie\", \"David\", \"Eve\"]\n",
    "\n",
    "print(\"Third Customer:\", customers[2])\n",
    "    \n",
    "customers[1] = \"Ben\"\n",
    "\n",
    "customers.append(\"Frank\")\n",
    "\n",
    "customers.remove(\"David\")\n",
    "\n",
    "customers.sort()\n",
    "print(customers)"
   ]
  },
  {
   "cell_type": "code",
   "execution_count": 18,
   "metadata": {},
   "outputs": [
    {
     "name": "stdout",
     "output_type": "stream",
     "text": [
      "Grade Categories:\n",
      "Score: 85 - Grade: A\n",
      "Score: 78 - Grade: B\n",
      "Score: 92 - Grade: A\n",
      "Score: 45 - Grade: C\n",
      "Score: 33 - Grade: F\n",
      "Score: 67 - Grade: B\n",
      "Score: 88 - Grade: A\n",
      "Score: 41 - Grade: C\n",
      "Boosted Grades: [89.25, 81.9, 96.60000000000001, 47.25, 34.65, 70.35000000000001, 92.4, 43.050000000000004]\n",
      "Boosted Grades Above 90: [96.60000000000001, 92.4]\n"
     ]
    }
   ],
   "source": [
    "# TASK-4: ------------------------\n",
    "grades = [85, 78, 92, 45, 33, 67, 88, 41]\n",
    "\n",
    "print(\"Grade Categories:\")\n",
    "for grade in grades:\n",
    "    if grade > 80:\n",
    "        print(f\"Score: {grade} - Grade: A\")\n",
    "    elif 60 <= grade <= 80:\n",
    "        print(f\"Score: {grade} - Grade: B\")\n",
    "    elif 40 <= grade < 60:\n",
    "        print(f\"Score: {grade} - Grade: C\")\n",
    "    else:\n",
    "        print(f\"Score: {grade} - Grade: F\")\n",
    "\n",
    "boosted_grades = list(map(lambda x: x * 1.05, grades))\n",
    "print(\"Boosted Grades:\", boosted_grades)\n",
    "\n",
    "grades_above_90 = list(filter(lambda x: x > 90, boosted_grades))\n",
    "print(\"Boosted Grades Above 90:\", grades_above_90)\n"
   ]
  },
  {
   "cell_type": "code",
   "execution_count": 20,
   "metadata": {},
   "outputs": [
    {
     "name": "stdout",
     "output_type": "stream",
     "text": [
      "Author of Second Book: George Orwell\n",
      "Title: The Great Gatsby, Author: F. Scott Fitzgerald, Year: 1925\n",
      "Book Titles:\n",
      "To Kill a Mockingbird\n",
      "1984\n",
      "The Great Gatsby\n",
      "Brave New World\n",
      "\n",
      "Updated Tags: {'dystopian', 'novel', 'classic', 'literature', 'sci-fi'}\n",
      "Tags after removing 'novel': {'dystopian', 'classic', 'literature', 'sci-fi'}\n"
     ]
    }
   ],
   "source": [
    "# TASK-5:-------------------------\n",
    "def manage_library():\n",
    "    books = (\n",
    "        (\"To Kill a Mockingbird\", \"Harper Lee\", 1960),\n",
    "        (\"1984\", \"George Orwell\", 1949),\n",
    "        (\"The Great Gatsby\", \"F. Scott Fitzgerald\", 1925)\n",
    "    )\n",
    "    tags = {\"classic\", \"dystopian\", \"novel\", \"literature\"}\n",
    "\n",
    "    print(\"Author of Second Book:\", books[1][1])\n",
    "\n",
    "    books = books + ((\"Brave New World\", \"Aldous Huxley\", 1932),)\n",
    "\n",
    "    title, author, year = books[2]\n",
    "    print(f\"Title: {title}, Author: {author}, Year: {year}\")\n",
    "\n",
    "    print(\"Book Titles:\")\n",
    "    for book in books:\n",
    "        print(book[0])\n",
    "\n",
    "    tags.add(\"sci-fi\")\n",
    "    print(\"\\nUpdated Tags:\", tags)\n",
    "\n",
    "    tags.discard(\"novel\")\n",
    "    print(\"Tags after removing 'novel':\", tags)\n",
    "\n",
    "manage_library()\n"
   ]
  }
 ],
 "metadata": {
  "kernelspec": {
   "display_name": "Python 3",
   "language": "python",
   "name": "python3"
  },
  "language_info": {
   "codemirror_mode": {
    "name": "ipython",
    "version": 3
   },
   "file_extension": ".py",
   "mimetype": "text/x-python",
   "name": "python",
   "nbconvert_exporter": "python",
   "pygments_lexer": "ipython3",
   "version": "3.11.9"
  }
 },
 "nbformat": 4,
 "nbformat_minor": 2
}
